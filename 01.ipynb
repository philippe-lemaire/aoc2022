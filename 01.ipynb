{
 "cells": [
  {
   "cell_type": "markdown",
   "id": "41739f08-7c32-42ae-a98d-3af0b3681b11",
   "metadata": {},
   "source": [
    "# Advent of code day 1"
   ]
  },
  {
   "cell_type": "code",
   "execution_count": 1,
   "id": "7ad2565f-60a7-4884-b8a3-97aafea4c03c",
   "metadata": {},
   "outputs": [],
   "source": [
    "with open('01_01_input') as f:\n",
    "    data = f.readlines()"
   ]
  },
  {
   "cell_type": "code",
   "execution_count": 4,
   "id": "4b072a81-9209-4137-8898-ff7651cbc288",
   "metadata": {},
   "outputs": [],
   "source": [
    "data = [l.strip() for l in data]"
   ]
  },
  {
   "cell_type": "code",
   "execution_count": 26,
   "id": "6beebbc9-04d0-4590-8c38-0154db85f4e5",
   "metadata": {},
   "outputs": [],
   "source": [
    "elves = []"
   ]
  },
  {
   "cell_type": "code",
   "execution_count": 27,
   "id": "62d09018-d359-4dcf-a931-632b4e5d7645",
   "metadata": {},
   "outputs": [],
   "source": [
    "counter = 0\n",
    "for line in data:\n",
    "    if line:\n",
    "        counter += int(line)\n",
    "    else:\n",
    "        elves.append(counter)\n",
    "        counter = 0"
   ]
  },
  {
   "cell_type": "code",
   "execution_count": 31,
   "id": "76d7a197-9086-4c1d-b418-e097668e5b90",
   "metadata": {},
   "outputs": [],
   "source": [
    "elves.sort()"
   ]
  },
  {
   "cell_type": "code",
   "execution_count": 32,
   "id": "5533b428-cf71-49e3-b1e7-bb7bf7811950",
   "metadata": {},
   "outputs": [
    {
     "data": {
      "text/plain": [
       "10064"
      ]
     },
     "execution_count": 32,
     "metadata": {},
     "output_type": "execute_result"
    }
   ],
   "source": [
    "elves[0]"
   ]
  },
  {
   "cell_type": "code",
   "execution_count": 33,
   "id": "dc81030f-89ac-4ec9-8931-087a446f7073",
   "metadata": {},
   "outputs": [
    {
     "data": {
      "text/plain": [
       "212836"
      ]
     },
     "execution_count": 33,
     "metadata": {},
     "output_type": "execute_result"
    }
   ],
   "source": [
    "sum(elves[-3:])"
   ]
  },
  {
   "cell_type": "code",
   "execution_count": 34,
   "id": "53b86da2-3eaf-431c-b580-35e4fbc2ff36",
   "metadata": {},
   "outputs": [
    {
     "data": {
      "text/plain": [
       "45355"
      ]
     },
     "execution_count": 34,
     "metadata": {},
     "output_type": "execute_result"
    }
   ],
   "source": [
    "int('33232') + int('12123')"
   ]
  },
  {
   "cell_type": "code",
   "execution_count": null,
   "id": "ef0eb31a-4e72-46a4-89ad-b63b34322eda",
   "metadata": {},
   "outputs": [],
   "source": []
  }
 ],
 "metadata": {
  "kernelspec": {
   "display_name": "Python 3 (ipykernel)",
   "language": "python",
   "name": "python3"
  },
  "language_info": {
   "codemirror_mode": {
    "name": "ipython",
    "version": 3
   },
   "file_extension": ".py",
   "mimetype": "text/x-python",
   "name": "python",
   "nbconvert_exporter": "python",
   "pygments_lexer": "ipython3",
   "version": "3.11.0b1"
  }
 },
 "nbformat": 4,
 "nbformat_minor": 5
}
