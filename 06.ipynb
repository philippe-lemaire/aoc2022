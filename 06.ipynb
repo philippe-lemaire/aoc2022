{
 "cells": [
  {
   "cell_type": "markdown",
   "id": "54cf605b-724e-435c-8db3-7d79bd68966e",
   "metadata": {},
   "source": [
    "# Day 6"
   ]
  },
  {
   "cell_type": "code",
   "execution_count": 1,
   "id": "dd2ae76b-791b-4764-8b41-9cdf4d7f6f50",
   "metadata": {},
   "outputs": [],
   "source": [
    "with open('input_06') as file:\n",
    "    data = file.read()"
   ]
  },
  {
   "cell_type": "code",
   "execution_count": 11,
   "id": "f51e92f0-bd82-409d-99bd-58f373f60615",
   "metadata": {},
   "outputs": [],
   "source": [
    "def get_answer(s, size):\n",
    "    for i in range(len(s)):\n",
    "        slice_ = s[i:i+size]\n",
    "        if len(set(slice_)) == len(slice_):\n",
    "            answer=i+size\n",
    "            break\n",
    "    return answer"
   ]
  },
  {
   "cell_type": "code",
   "execution_count": 12,
   "id": "9dde8fbc-1718-486a-adc8-75a5ff1b783a",
   "metadata": {},
   "outputs": [
    {
     "data": {
      "text/plain": [
       "1262"
      ]
     },
     "execution_count": 12,
     "metadata": {},
     "output_type": "execute_result"
    }
   ],
   "source": [
    "get_answer(data, 4)"
   ]
  },
  {
   "cell_type": "markdown",
   "id": "6fc5a8bb-8ace-4f1a-a450-d140f47f43fb",
   "metadata": {},
   "source": [
    "## Part 2 - Detect first group of 14 distinct letters"
   ]
  },
  {
   "cell_type": "code",
   "execution_count": 13,
   "id": "e63b7f80-a7a6-4675-88c8-259e9614e6af",
   "metadata": {},
   "outputs": [
    {
     "data": {
      "text/plain": [
       "3444"
      ]
     },
     "execution_count": 13,
     "metadata": {},
     "output_type": "execute_result"
    }
   ],
   "source": [
    "get_answer(data, 14)"
   ]
  }
 ],
 "metadata": {
  "kernelspec": {
   "display_name": "Python 3 (ipykernel)",
   "language": "python",
   "name": "python3"
  },
  "language_info": {
   "codemirror_mode": {
    "name": "ipython",
    "version": 3
   },
   "file_extension": ".py",
   "mimetype": "text/x-python",
   "name": "python",
   "nbconvert_exporter": "python",
   "pygments_lexer": "ipython3",
   "version": "3.11.0b1"
  }
 },
 "nbformat": 4,
 "nbformat_minor": 5
}
