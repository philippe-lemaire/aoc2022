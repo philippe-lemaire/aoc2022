{
 "cells": [
  {
   "cell_type": "markdown",
   "id": "54cf605b-724e-435c-8db3-7d79bd68966e",
   "metadata": {},
   "source": [
    "# Day 6"
   ]
  },
  {
   "cell_type": "markdown",
   "id": "a510c8e3-8b58-424b-a490-ce64c33db90d",
   "metadata": {},
   "source": [
    "## Part 1 - Dectect first slice of 4 distinct letters"
   ]
  },
  {
   "cell_type": "code",
   "execution_count": 19,
   "id": "dd2ae76b-791b-4764-8b41-9cdf4d7f6f50",
   "metadata": {},
   "outputs": [],
   "source": [
    "# read the input\n",
    "with open('input_06') as file:\n",
    "    data = file.read()"
   ]
  },
  {
   "cell_type": "code",
   "execution_count": 23,
   "id": "f51e92f0-bd82-409d-99bd-58f373f60615",
   "metadata": {},
   "outputs": [],
   "source": [
    "def get_answer(s, size):\n",
    "    \"\"\"Iterates over slices of the string s of size size, then compares len of the set \n",
    "    of letters versus the size. Once it's equal, we're done.\"\"\"\n",
    "    for i in range(len(s)):\n",
    "        if len(set(s[i:i+size])) == size:\n",
    "            return i+size"
   ]
  },
  {
   "cell_type": "code",
   "execution_count": 24,
   "id": "9dde8fbc-1718-486a-adc8-75a5ff1b783a",
   "metadata": {},
   "outputs": [
    {
     "data": {
      "text/plain": [
       "1262"
      ]
     },
     "execution_count": 24,
     "metadata": {},
     "output_type": "execute_result"
    }
   ],
   "source": [
    "get_answer(data, 4)"
   ]
  },
  {
   "cell_type": "markdown",
   "id": "6fc5a8bb-8ace-4f1a-a450-d140f47f43fb",
   "metadata": {},
   "source": [
    "## Part 2 - Detect first group of 14 distinct letters"
   ]
  },
  {
   "cell_type": "code",
   "execution_count": 25,
   "id": "e63b7f80-a7a6-4675-88c8-259e9614e6af",
   "metadata": {},
   "outputs": [
    {
     "data": {
      "text/plain": [
       "3444"
      ]
     },
     "execution_count": 25,
     "metadata": {},
     "output_type": "execute_result"
    }
   ],
   "source": [
    "get_answer(data, 14)"
   ]
  },
  {
   "cell_type": "code",
   "execution_count": null,
   "id": "11986aae-4d67-4a4c-bacf-52f8ba7d2153",
   "metadata": {},
   "outputs": [],
   "source": []
  }
 ],
 "metadata": {
  "kernelspec": {
   "display_name": "Python 3 (ipykernel)",
   "language": "python",
   "name": "python3"
  },
  "language_info": {
   "codemirror_mode": {
    "name": "ipython",
    "version": 3
   },
   "file_extension": ".py",
   "mimetype": "text/x-python",
   "name": "python",
   "nbconvert_exporter": "python",
   "pygments_lexer": "ipython3",
   "version": "3.11.0b1"
  }
 },
 "nbformat": 4,
 "nbformat_minor": 5
}
