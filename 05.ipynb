{
 "cells": [
  {
   "cell_type": "markdown",
   "id": "ee6661ec-48ab-4e9a-99e4-763d10fa5b0d",
   "metadata": {},
   "source": [
    "# Day 5"
   ]
  },
  {
   "cell_type": "code",
   "execution_count": 1,
   "id": "32e28f2c-25b8-473a-8d61-38e6a6ab9028",
   "metadata": {},
   "outputs": [],
   "source": [
    "with open('input_05') as f:\n",
    "    data = f.read().splitlines()"
   ]
  },
  {
   "cell_type": "code",
   "execution_count": 2,
   "id": "da123b80-3934-49c2-9be5-b3820c3e8d9e",
   "metadata": {},
   "outputs": [
    {
     "data": {
      "text/plain": [
       "['    [C]             [L]         [T]',\n",
       " '    [V] [R] [M]     [T]         [B]',\n",
       " '    [F] [G] [H] [Q] [Q]         [H]',\n",
       " '    [W] [L] [P] [V] [M] [V]     [F]',\n",
       " '    [P] [C] [W] [S] [Z] [B] [S] [P]',\n",
       " '[G] [R] [M] [B] [F] [J] [S] [Z] [D]',\n",
       " '[J] [L] [P] [F] [C] [H] [F] [J] [C]',\n",
       " '[Z] [Q] [F] [L] [G] [W] [H] [F] [M]']"
      ]
     },
     "execution_count": 2,
     "metadata": {},
     "output_type": "execute_result"
    }
   ],
   "source": [
    "starting_state = data[:8]\n",
    "starting_state"
   ]
  },
  {
   "cell_type": "code",
   "execution_count": 3,
   "id": "c5078b8d-ca96-411c-ae8d-bc98dcc88511",
   "metadata": {},
   "outputs": [],
   "source": [
    "moves = data[10:]"
   ]
  },
  {
   "cell_type": "code",
   "execution_count": 4,
   "id": "0e3fe2f1-4b91-4bcb-913e-1d59432be7c6",
   "metadata": {},
   "outputs": [],
   "source": [
    "def get_starting_state():\n",
    "    columns_to_stacks = {\n",
    "    1: 1,\n",
    "    5: 2,\n",
    "    9: 3,\n",
    "    13: 4,\n",
    "    17: 5,\n",
    "    21: 6,\n",
    "    25: 7,\n",
    "    29: 8,\n",
    "    33: 9,\n",
    "    }\n",
    "    current_state = {}\n",
    "    for column, stack in columns_to_stacks.items():\n",
    "        # create a key:value structure where key is the stack, and value is a list of characters, skipping spaces. \n",
    "        # the first item in each list is the top of the stack\n",
    "        current_state[stack] = [\n",
    "            starting_state[row][column] \n",
    "            for row in range(len(starting_state)) # we iterate over all the rows to collect a column\n",
    "            if starting_state[row][column] != ' ' # skip the spaces that represent empty space\n",
    "        ]\n",
    "    return current_state"
   ]
  },
  {
   "cell_type": "code",
   "execution_count": 5,
   "id": "7e996adc-5bb2-4628-9d14-d6df7a740a5f",
   "metadata": {},
   "outputs": [],
   "source": [
    "state = get_starting_state()"
   ]
  },
  {
   "cell_type": "code",
   "execution_count": 6,
   "id": "0c058ec3-a38a-4e0e-9f29-c6beb020fee2",
   "metadata": {},
   "outputs": [
    {
     "data": {
      "text/plain": [
       "{1: ['G', 'J', 'Z'],\n",
       " 2: ['C', 'V', 'F', 'W', 'P', 'R', 'L', 'Q'],\n",
       " 3: ['R', 'G', 'L', 'C', 'M', 'P', 'F'],\n",
       " 4: ['M', 'H', 'P', 'W', 'B', 'F', 'L'],\n",
       " 5: ['Q', 'V', 'S', 'F', 'C', 'G'],\n",
       " 6: ['L', 'T', 'Q', 'M', 'Z', 'J', 'H', 'W'],\n",
       " 7: ['V', 'B', 'S', 'F', 'H'],\n",
       " 8: ['S', 'Z', 'J', 'F'],\n",
       " 9: ['T', 'B', 'H', 'F', 'P', 'D', 'C', 'M']}"
      ]
     },
     "execution_count": 6,
     "metadata": {},
     "output_type": "execute_result"
    }
   ],
   "source": [
    "state"
   ]
  },
  {
   "cell_type": "code",
   "execution_count": 7,
   "id": "31e48517-6041-431c-9fec-58d185ed7250",
   "metadata": {},
   "outputs": [],
   "source": [
    "def move_over_one_by_one(start, destination):\n",
    "    crate = state[start].pop(0) # remove the first item and store it\n",
    "    state[destination].insert(0, crate) # insert it at destination in first position"
   ]
  },
  {
   "cell_type": "code",
   "execution_count": 8,
   "id": "0ae701f2-496f-4a92-9c29-72eda85ec8ce",
   "metadata": {},
   "outputs": [],
   "source": [
    "state = get_starting_state()\n",
    "\n",
    "for move in moves:\n",
    "    # get the values\n",
    "    _, qty, __, start, _, destination = move.split()\n",
    "    # turn them into ints\n",
    "    qty = int(qty)\n",
    "    start = int(start) \n",
    "    destination = int(destination)\n",
    "\n",
    "    for _ in range(qty):\n",
    "        # execute the move\n",
    "        move_over_one_by_one(start, destination)\n"
   ]
  },
  {
   "cell_type": "code",
   "execution_count": 9,
   "id": "d363b60a-bbc0-4c1f-9ba0-34c2c4a14ab5",
   "metadata": {},
   "outputs": [
    {
     "data": {
      "text/plain": [
       "{1: ['W'],\n",
       " 2: ['S'],\n",
       " 3: ['F', 'J', 'D', 'R', 'V', 'H'],\n",
       " 4: ['T', 'S'],\n",
       " 5: ['M', 'W', 'F'],\n",
       " 6: ['R', 'M', 'L', 'M', 'L', 'L', 'S', 'V', 'V', 'C'],\n",
       " 7: ['H',\n",
       "  'F',\n",
       "  'J',\n",
       "  'F',\n",
       "  'G',\n",
       "  'P',\n",
       "  'C',\n",
       "  'Z',\n",
       "  'L',\n",
       "  'B',\n",
       "  'Q',\n",
       "  'B',\n",
       "  'H',\n",
       "  'B',\n",
       "  'F',\n",
       "  'P',\n",
       "  'J',\n",
       "  'G',\n",
       "  'G',\n",
       "  'F'],\n",
       " 8: ['P', 'C', 'Q', 'Z', 'Q', 'T', 'H', 'M', 'F', 'C'],\n",
       " 9: ['P', 'W', 'Z']}"
      ]
     },
     "execution_count": 9,
     "metadata": {},
     "output_type": "execute_result"
    }
   ],
   "source": [
    "state"
   ]
  },
  {
   "cell_type": "code",
   "execution_count": 10,
   "id": "571e0c2a-bcb4-4251-b6e6-00a7ff1891ea",
   "metadata": {},
   "outputs": [],
   "source": [
    "def get_answer():\n",
    "    # collect the first char of each value in the dictionnary state\n",
    "    return \"\".join([item[0] for item in state.values()])"
   ]
  },
  {
   "cell_type": "code",
   "execution_count": 11,
   "id": "dd193ee8-916c-4445-9de9-102de8c24c22",
   "metadata": {},
   "outputs": [
    {
     "data": {
      "text/plain": [
       "'WSFTMRHPP'"
      ]
     },
     "execution_count": 11,
     "metadata": {},
     "output_type": "execute_result"
    }
   ],
   "source": [
    "get_answer()"
   ]
  },
  {
   "cell_type": "markdown",
   "id": "1fe19faf-7932-44e8-9f71-c05c0455185b",
   "metadata": {},
   "source": [
    "# part two, moving several crates is done in one go instead of one by one"
   ]
  },
  {
   "cell_type": "code",
   "execution_count": 12,
   "id": "de45707a-71c8-49b5-aacf-bd0de8599bcf",
   "metadata": {},
   "outputs": [],
   "source": [
    "def move_over_stack(qty, start, destination):\n",
    "    # collect crates by slicing\n",
    "    crates = state[start][:qty]\n",
    "    # update origin stack by opposite slicing\n",
    "    state[start] = state[start][qty:]\n",
    "    # put the crates on top of destination by list concatenation\n",
    "    state[destination] = crates + state[destination]\n",
    "    "
   ]
  },
  {
   "cell_type": "code",
   "execution_count": 13,
   "id": "265320f7-0484-4505-85db-9b34c6bdeb72",
   "metadata": {},
   "outputs": [],
   "source": [
    "state = get_starting_state()"
   ]
  },
  {
   "cell_type": "code",
   "execution_count": 14,
   "id": "0123b45e-d38a-4535-be1f-ada28ab5f05c",
   "metadata": {},
   "outputs": [],
   "source": [
    "for move in moves:\n",
    "    # same loop as part 1, just a different move function\n",
    "    _, qty, __, start, _, destination = move.split()\n",
    "    qty = int(qty)\n",
    "    start = int(start) \n",
    "    destination = int(destination)\n",
    "    move_over_stack(qty, start, destination)"
   ]
  },
  {
   "cell_type": "code",
   "execution_count": 15,
   "id": "c50d1272-59f7-48ee-b6c6-cf20ad9b10d5",
   "metadata": {},
   "outputs": [
    {
     "data": {
      "text/plain": [
       "'GSLCMFBRP'"
      ]
     },
     "execution_count": 15,
     "metadata": {},
     "output_type": "execute_result"
    }
   ],
   "source": [
    "get_answer()"
   ]
  }
 ],
 "metadata": {
  "kernelspec": {
   "display_name": "Python 3 (ipykernel)",
   "language": "python",
   "name": "python3"
  },
  "language_info": {
   "codemirror_mode": {
    "name": "ipython",
    "version": 3
   },
   "file_extension": ".py",
   "mimetype": "text/x-python",
   "name": "python",
   "nbconvert_exporter": "python",
   "pygments_lexer": "ipython3",
   "version": "3.11.0b1"
  }
 },
 "nbformat": 4,
 "nbformat_minor": 5
}
