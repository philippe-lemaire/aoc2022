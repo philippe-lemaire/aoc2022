{
 "cells": [
  {
   "cell_type": "markdown",
   "id": "8fd01bf7-d3af-40e2-8966-6ca1fd616add",
   "metadata": {},
   "source": [
    "# Day 7"
   ]
  },
  {
   "cell_type": "markdown",
   "id": "fa92a560-f69d-486a-8661-07ce6877141f",
   "metadata": {},
   "source": [
    "To begin, find all of the directories with a total size of at most `100000`, then calculate the sum of their total sizes. In the example above, these directories are a and e; the sum of their total sizes is 95437 (94853 + 584). (As in this example, this process can count files more than once!)\n",
    "\n",
    "Find all of the directories with a total size of at most `100000`. What is the `sum of the total sizes` of those directories?"
   ]
  },
  {
   "cell_type": "code",
   "execution_count": 1,
   "id": "67db0f72-c10c-4a9f-b164-c404932fb6ed",
   "metadata": {},
   "outputs": [],
   "source": [
    "with open('input_07') as file:\n",
    "    data = file.read().splitlines()"
   ]
  },
  {
   "cell_type": "code",
   "execution_count": 2,
   "id": "77212bc6-5a85-446b-85b0-3159f6c914f2",
   "metadata": {},
   "outputs": [],
   "source": [
    "from dataclasses import dataclass\n",
    "\n",
    "\n",
    "@dataclass\n",
    "class File:\n",
    "    name: str\n",
    "    size: int\n",
    "\n",
    "@dataclass\n",
    "class Directory:\n",
    "    name: str\n",
    "    parent: None\n",
    "    files: list\n",
    "    subdirs: list\n",
    "    \n",
    "    def get_size(self):\n",
    "        \"\"\"recursively getting the size of the files in the directory + the size of subdirectories\"\"\"\n",
    "        sum_files = sum([file.size for file in self.files])\n",
    "        sum_subdirs = sum([subdir.get_size() for subdir in self.subdirs])\n",
    "        return sum_files + sum_subdirs"
   ]
  },
  {
   "cell_type": "code",
   "execution_count": 3,
   "id": "87c6a4f1-b464-43af-a799-a1af4223c008",
   "metadata": {},
   "outputs": [],
   "source": [
    "root = Directory(name='/', parent=None, files = [], subdirs=[])\n",
    "\n",
    "current_dir = root"
   ]
  },
  {
   "cell_type": "code",
   "execution_count": 4,
   "id": "a73398f9-1b30-459a-90db-03b34227bdb5",
   "metadata": {},
   "outputs": [],
   "source": [
    "# parsing, starting from second line, as root is already created\n",
    "for line in data[1:]:\n",
    "    if line.startswith('$ cd'): # we're moving to a new dir or old dir\n",
    "        if not line.startswith('$ cd ..'): # we are moving down into a new dir\n",
    "            new_dir = Directory(name=line.split()[2], parent=current_dir, files=[], subdirs=[])\n",
    "            current_dir.subdirs.append(new_dir)\n",
    "            current_dir = new_dir\n",
    "        else: # we are moving up\n",
    "            current_dir = current_dir.parent\n",
    "    if line[0].isdigit(): # it's a file\n",
    "        filesize, filename = line.split()\n",
    "        new_file = File(name=filename, size=int(filesize))\n",
    "        current_dir.files.append(new_file)"
   ]
  },
  {
   "cell_type": "code",
   "execution_count": 5,
   "id": "96f2dc33-4f63-4643-97f5-8863daa8c83f",
   "metadata": {},
   "outputs": [],
   "source": [
    "## find directories with size at most 100000 and sum their sizes"
   ]
  },
  {
   "cell_type": "code",
   "execution_count": 6,
   "id": "8de5d3ba-f524-4766-9369-6619a73797ba",
   "metadata": {},
   "outputs": [],
   "source": [
    "at_most_100000 = []\n",
    "\n",
    "def drill_and_get_size(directory, maximum=100000):\n",
    "    \"\"\"recursively walking the dir structure and appending the ones that match the max size to a list\"\"\"\n",
    "    size = directory.get_size()\n",
    "    if size <= maximum:\n",
    "        at_most_100000.append(directory)\n",
    "    for subdir in directory.subdirs:\n",
    "        drill_and_get_size(subdir)"
   ]
  },
  {
   "cell_type": "code",
   "execution_count": 7,
   "id": "d126efe9-b62b-4ad4-bb3c-36a33e45269f",
   "metadata": {},
   "outputs": [],
   "source": [
    "drill_and_get_size(root)"
   ]
  },
  {
   "cell_type": "code",
   "execution_count": 8,
   "id": "37b9ccef-04be-4be7-b0e9-79164b0c1d09",
   "metadata": {},
   "outputs": [
    {
     "data": {
      "text/plain": [
       "28"
      ]
     },
     "execution_count": 8,
     "metadata": {},
     "output_type": "execute_result"
    }
   ],
   "source": [
    "len(at_most_100000)"
   ]
  },
  {
   "cell_type": "markdown",
   "id": "0afaa40b-e2cf-4388-8e1a-1cca081f427a",
   "metadata": {},
   "source": [
    "## answer part 1"
   ]
  },
  {
   "cell_type": "code",
   "execution_count": 9,
   "id": "b1acb34e-ca88-4a27-bd0e-ef94697a6f52",
   "metadata": {},
   "outputs": [
    {
     "data": {
      "text/plain": [
       "1491614"
      ]
     },
     "execution_count": 9,
     "metadata": {},
     "output_type": "execute_result"
    }
   ],
   "source": [
    "sum([d.get_size() for d in at_most_100000])"
   ]
  },
  {
   "cell_type": "markdown",
   "id": "6ae67e55-b52b-46c8-8733-3e5dfc598789",
   "metadata": {},
   "source": [
    "## Part 2"
   ]
  },
  {
   "cell_type": "code",
   "execution_count": 10,
   "id": "20049fce-be49-45d6-bb06-3d7a36c29151",
   "metadata": {},
   "outputs": [],
   "source": [
    "total_drive = 70000000\n",
    "update_file_size = 30000000"
   ]
  },
  {
   "cell_type": "code",
   "execution_count": 11,
   "id": "56c64ab8-4838-4659-b69c-3b0ff19edbdb",
   "metadata": {},
   "outputs": [],
   "source": [
    "free_space = total_drive - root.get_size()"
   ]
  },
  {
   "cell_type": "code",
   "execution_count": 13,
   "id": "c0a90187-e6d2-43e5-840d-e54662e31826",
   "metadata": {},
   "outputs": [],
   "source": [
    "room_needed = update_file_size-free_space"
   ]
  },
  {
   "cell_type": "code",
   "execution_count": 14,
   "id": "907601d6-1ed4-4055-b860-d79adb13286e",
   "metadata": {},
   "outputs": [
    {
     "data": {
      "text/plain": [
       "6090134"
      ]
     },
     "execution_count": 14,
     "metadata": {},
     "output_type": "execute_result"
    }
   ],
   "source": [
    "room_needed"
   ]
  },
  {
   "cell_type": "code",
   "execution_count": 15,
   "id": "fb8adbca-16fc-4165-a05a-ef74e3d918c7",
   "metadata": {},
   "outputs": [],
   "source": [
    "meeting_size_req = []\n",
    "\n",
    "def drill_and_get_size(directory, minimum=room_needed):\n",
    "    \"\"\"recursively get directory size and append those that match the minimum size needed to a list\"\"\"\n",
    "    size = directory.get_size()\n",
    "    if size >= minimum:\n",
    "        meeting_size_req.append(directory)\n",
    "    for subdir in directory.subdirs:\n",
    "        drill_and_get_size(subdir)"
   ]
  },
  {
   "cell_type": "code",
   "execution_count": 16,
   "id": "bd5a21a1-8c51-4b0a-bbc5-5037730f4003",
   "metadata": {},
   "outputs": [],
   "source": [
    "drill_and_get_size(root)\n"
   ]
  },
  {
   "cell_type": "code",
   "execution_count": 20,
   "id": "2de19392-4694-44df-9af9-9be964ac59e7",
   "metadata": {},
   "outputs": [
    {
     "name": "stdout",
     "output_type": "stream",
     "text": [
      "Directory '/' : 46090134 kb\n",
      "Directory 'gwlwp' : 34257857 kb\n",
      "Directory 'fwdwq' : 13779132 kb\n",
      "Directory 'qbnfrhdn' : 8921709 kb\n",
      "Directory 'fwdwq' : 8371831 kb\n",
      "Directory 'qzgsswr' : 6400111 kb\n"
     ]
    }
   ],
   "source": [
    "# just checking the result\n",
    "for d in meeting_size_req:\n",
    "    print(f\"Directory '{d.name}' : {d.get_size()} kb\")\n"
   ]
  },
  {
   "cell_type": "markdown",
   "id": "9a78c774-a6ea-40db-ac3c-f743c9ded27c",
   "metadata": {},
   "source": [
    "### answer part 2"
   ]
  },
  {
   "cell_type": "code",
   "execution_count": 18,
   "id": "1d6ef99f-5750-42f4-8c57-821d6828ae56",
   "metadata": {},
   "outputs": [
    {
     "data": {
      "text/plain": [
       "6400111"
      ]
     },
     "execution_count": 18,
     "metadata": {},
     "output_type": "execute_result"
    }
   ],
   "source": [
    "min([d.get_size() for d in meeting_size_req])"
   ]
  },
  {
   "cell_type": "code",
   "execution_count": null,
   "id": "d27cc64c-d680-41a3-9189-c39b81107e5f",
   "metadata": {},
   "outputs": [],
   "source": []
  }
 ],
 "metadata": {
  "kernelspec": {
   "display_name": "Python 3 (ipykernel)",
   "language": "python",
   "name": "python3"
  },
  "language_info": {
   "codemirror_mode": {
    "name": "ipython",
    "version": 3
   },
   "file_extension": ".py",
   "mimetype": "text/x-python",
   "name": "python",
   "nbconvert_exporter": "python",
   "pygments_lexer": "ipython3",
   "version": "3.11.0b1"
  }
 },
 "nbformat": 4,
 "nbformat_minor": 5
}
