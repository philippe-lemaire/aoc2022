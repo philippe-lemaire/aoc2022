{
 "cells": [
  {
   "cell_type": "markdown",
   "id": "9a649e29-ae3d-4ed6-88c5-d42d9d96d9f1",
   "metadata": {},
   "source": [
    "# day 10"
   ]
  },
  {
   "cell_type": "code",
   "execution_count": 1,
   "id": "3e8aeef9-9bea-4be0-bc25-44c82dff5eb3",
   "metadata": {},
   "outputs": [],
   "source": [
    "# get the input as data\n",
    "with open('input_10') as f:\n",
    "    data = f.read().splitlines()"
   ]
  },
  {
   "cell_type": "code",
   "execution_count": 2,
   "id": "33d918ce-e6eb-471a-94cf-057b36c08309",
   "metadata": {},
   "outputs": [],
   "source": [
    "sample = \"\"\"addx 15\n",
    "addx -11\n",
    "addx 6\n",
    "addx -3\n",
    "addx 5\n",
    "addx -1\n",
    "addx -8\n",
    "addx 13\n",
    "addx 4\n",
    "noop\n",
    "addx -1\n",
    "addx 5\n",
    "addx -1\n",
    "addx 5\n",
    "addx -1\n",
    "addx 5\n",
    "addx -1\n",
    "addx 5\n",
    "addx -1\n",
    "addx -35\n",
    "addx 1\n",
    "addx 24\n",
    "addx -19\n",
    "addx 1\n",
    "addx 16\n",
    "addx -11\n",
    "noop\n",
    "noop\n",
    "addx 21\n",
    "addx -15\n",
    "noop\n",
    "noop\n",
    "addx -3\n",
    "addx 9\n",
    "addx 1\n",
    "addx -3\n",
    "addx 8\n",
    "addx 1\n",
    "addx 5\n",
    "noop\n",
    "noop\n",
    "noop\n",
    "noop\n",
    "noop\n",
    "addx -36\n",
    "noop\n",
    "addx 1\n",
    "addx 7\n",
    "noop\n",
    "noop\n",
    "noop\n",
    "addx 2\n",
    "addx 6\n",
    "noop\n",
    "noop\n",
    "noop\n",
    "noop\n",
    "noop\n",
    "addx 1\n",
    "noop\n",
    "noop\n",
    "addx 7\n",
    "addx 1\n",
    "noop\n",
    "addx -13\n",
    "addx 13\n",
    "addx 7\n",
    "noop\n",
    "addx 1\n",
    "addx -33\n",
    "noop\n",
    "noop\n",
    "noop\n",
    "addx 2\n",
    "noop\n",
    "noop\n",
    "noop\n",
    "addx 8\n",
    "noop\n",
    "addx -1\n",
    "addx 2\n",
    "addx 1\n",
    "noop\n",
    "addx 17\n",
    "addx -9\n",
    "addx 1\n",
    "addx 1\n",
    "addx -3\n",
    "addx 11\n",
    "noop\n",
    "noop\n",
    "addx 1\n",
    "noop\n",
    "addx 1\n",
    "noop\n",
    "noop\n",
    "addx -13\n",
    "addx -19\n",
    "addx 1\n",
    "addx 3\n",
    "addx 26\n",
    "addx -30\n",
    "addx 12\n",
    "addx -1\n",
    "addx 3\n",
    "addx 1\n",
    "noop\n",
    "noop\n",
    "noop\n",
    "addx -9\n",
    "addx 18\n",
    "addx 1\n",
    "addx 2\n",
    "noop\n",
    "noop\n",
    "addx 9\n",
    "noop\n",
    "noop\n",
    "noop\n",
    "addx -1\n",
    "addx 2\n",
    "addx -37\n",
    "addx 1\n",
    "addx 3\n",
    "noop\n",
    "addx 15\n",
    "addx -21\n",
    "addx 22\n",
    "addx -6\n",
    "addx 1\n",
    "noop\n",
    "addx 2\n",
    "addx 1\n",
    "noop\n",
    "addx -10\n",
    "noop\n",
    "noop\n",
    "addx 20\n",
    "addx 1\n",
    "addx 2\n",
    "addx 2\n",
    "addx -6\n",
    "addx -11\n",
    "noop\n",
    "noop\n",
    "noop\n",
    "\"\"\".splitlines()"
   ]
  },
  {
   "cell_type": "markdown",
   "id": "02b5d3cc-d805-499b-9b1e-1c65fd2fab69",
   "metadata": {},
   "source": [
    ">Find the signal strength during the 20th, 60th, 100th, 140th, 180th, and 220th cycles. What is the sum of these six signal strengths?"
   ]
  },
  {
   "cell_type": "code",
   "execution_count": 3,
   "id": "be92bb25-7e70-4246-ba7c-73b195eb27f3",
   "metadata": {
    "tags": []
   },
   "outputs": [],
   "source": [
    "def get_answer(data):\n",
    "    stack = []\n",
    "    signal_strengths = []\n",
    "    cycles_of_interest = list(range(20, 221, 40))\n",
    "    X = 1\n",
    "    for line in data:\n",
    "        if line.startswith('addx'):\n",
    "            stack.extend([0, int(line.split()[-1])])\n",
    "        else:\n",
    "            stack.append(0)\n",
    "\n",
    "    for cycle, value in enumerate(stack, 1):\n",
    "        \n",
    "        if cycle in cycles_of_interest:\n",
    "            signal_strengths.append(cycle*X)\n",
    "        X+=value\n",
    "\n",
    "    return sum(signal_strengths)"
   ]
  },
  {
   "cell_type": "code",
   "execution_count": 4,
   "id": "e5c9dcb1-3746-4237-84aa-181433e38e61",
   "metadata": {},
   "outputs": [
    {
     "data": {
      "text/plain": [
       "13140"
      ]
     },
     "execution_count": 4,
     "metadata": {},
     "output_type": "execute_result"
    }
   ],
   "source": [
    "get_answer(sample)"
   ]
  },
  {
   "cell_type": "code",
   "execution_count": 5,
   "id": "01ad753b-19ac-4fe7-9863-a766e43761e7",
   "metadata": {},
   "outputs": [
    {
     "data": {
      "text/plain": [
       "13920"
      ]
     },
     "execution_count": 5,
     "metadata": {},
     "output_type": "execute_result"
    }
   ],
   "source": [
    "get_answer(data)"
   ]
  },
  {
   "cell_type": "markdown",
   "id": "b7a98584-b062-45de-bc72-165085648eb0",
   "metadata": {},
   "source": [
    "## Part 2"
   ]
  },
  {
   "cell_type": "code",
   "execution_count": 6,
   "id": "5d1fa34a-895a-4920-b13d-816ba24a488b",
   "metadata": {},
   "outputs": [],
   "source": [
    "def print_rows(data):\n",
    "    stack = []\n",
    "    rows = []\n",
    "    X = 1\n",
    "    for line in data:\n",
    "        if line.startswith('addx'):\n",
    "            stack.extend([0, int(line.split()[-1])])\n",
    "        else:\n",
    "            stack.append(0)\n",
    "\n",
    "    new_row = ''\n",
    "    for cycle, value in enumerate(stack, 1):\n",
    "        position = cycle % 40 - 1\n",
    "        pixels = [X-1, X, X+1]\n",
    "\n",
    "        if position in pixels:\n",
    "            # we draw an #\n",
    "            new_row += '#'\n",
    "        else:\n",
    "            new_row += '.'\n",
    "\n",
    "        X+=value\n",
    "\n",
    "        if cycle in list(range(40, 241, 40)):\n",
    "            # end of the row\n",
    "            rows.append(new_row)\n",
    "            new_row = ''\n",
    "    for row in rows:\n",
    "        print(row)"
   ]
  },
  {
   "cell_type": "code",
   "execution_count": 7,
   "id": "58630b4b-90f6-4089-83f5-d91063edf28b",
   "metadata": {},
   "outputs": [
    {
     "name": "stdout",
     "output_type": "stream",
     "text": [
      "####..##..#....#..#.###..#....####...##.\n",
      "#....#..#.#....#..#.#..#.#....#.......#.\n",
      "###..#....#....####.###..#....###.....##\n",
      "#....#.##.#....#..#.#..#.#....#.......##\n",
      "#....#..#.#....#..#.#..#.#....#....#..##\n",
      "####..###.####.#..#.###..####.#.....##..\n"
     ]
    }
   ],
   "source": [
    "print_rows(data)"
   ]
  },
  {
   "cell_type": "markdown",
   "id": "8cf75394-e020-4cc1-96cf-51c8e7c5ea42",
   "metadata": {},
   "source": [
    "EGLHBLFJ"
   ]
  }
 ],
 "metadata": {
  "kernelspec": {
   "display_name": "Python 3 (ipykernel)",
   "language": "python",
   "name": "python3"
  },
  "language_info": {
   "codemirror_mode": {
    "name": "ipython",
    "version": 3
   },
   "file_extension": ".py",
   "mimetype": "text/x-python",
   "name": "python",
   "nbconvert_exporter": "python",
   "pygments_lexer": "ipython3",
   "version": "3.11.0b1"
  }
 },
 "nbformat": 4,
 "nbformat_minor": 5
}
