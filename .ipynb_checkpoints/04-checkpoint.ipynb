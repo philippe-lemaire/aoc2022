{
 "cells": [
  {
   "cell_type": "markdown",
   "id": "1d484b94-f17a-4c9f-9212-b489fa61c2cc",
   "metadata": {},
   "source": [
    "# Day 4"
   ]
  },
  {
   "cell_type": "code",
   "execution_count": 2,
   "id": "971127de-d904-4bfe-b92a-f684c727625c",
   "metadata": {},
   "outputs": [],
   "source": [
    "with open('input_04') as f:\n",
    "    data = f.read().splitlines()"
   ]
  },
  {
   "cell_type": "code",
   "execution_count": 34,
   "id": "908356c3-7152-43cc-a871-4bb3b2061bc0",
   "metadata": {},
   "outputs": [],
   "source": [
    "result = 0\n",
    "for line in data:\n",
    "\n",
    "    left, right = line.split(',')\n",
    "\n",
    "    borne_inf_gauche, borne_sup_gauche = left.split('-')\n",
    "\n",
    "    borne_inf_droite, borne_sup_droite = right.split('-')\n",
    "\n",
    "    # to int\n",
    "    borne_inf_gauche = int(borne_inf_gauche)\n",
    "    borne_sup_gauche = int(borne_sup_gauche)\n",
    "    borne_inf_droite = int(borne_inf_droite)\n",
    "    borne_sup_droite = int(borne_sup_droite)\n",
    "\n",
    "\n",
    "    # est-ce que gauche est inclus dans droite ?\n",
    "    gidd = borne_inf_gauche <= borne_inf_droite and borne_sup_gauche >= borne_sup_droite\n",
    "    #if gidd:\n",
    "      #  print(f\"droite inclus dans gauche : {line}\")\n",
    "    # est-ce que droite est inclus dans gauche ?\n",
    "    didg = borne_inf_droite <= borne_inf_gauche and borne_sup_droite >= borne_sup_gauche\n",
    "    #if didg:\n",
    "       # print(f\"gauche inclus dans droite : {line}\")\n",
    "    if gidd or didg:\n",
    "        result += 1"
   ]
  },
  {
   "cell_type": "code",
   "execution_count": 35,
   "id": "8b9d9ec2-95d1-480c-8ee7-ac238e9cc9f7",
   "metadata": {},
   "outputs": [
    {
     "data": {
      "text/plain": [
       "475"
      ]
     },
     "execution_count": 35,
     "metadata": {},
     "output_type": "execute_result"
    }
   ],
   "source": [
    "result"
   ]
  },
  {
   "cell_type": "markdown",
   "id": "8a3ce54a-c8bd-4a71-b686-5590ad16fc81",
   "metadata": {},
   "source": [
    "# part 2, count overlap"
   ]
  },
  {
   "cell_type": "code",
   "execution_count": 36,
   "id": "a3d7be41-0612-4d6e-a15a-fb7d73e96018",
   "metadata": {},
   "outputs": [],
   "source": [
    "result = 0\n",
    "for line in data:\n",
    "\n",
    "    left, right = line.split(',')\n",
    "\n",
    "    borne_inf_gauche, borne_sup_gauche = left.split('-')\n",
    "\n",
    "    borne_inf_droite, borne_sup_droite = right.split('-')\n",
    "\n",
    "    # to int\n",
    "    borne_inf_gauche = int(borne_inf_gauche)\n",
    "    borne_sup_gauche = int(borne_sup_gauche)\n",
    "    borne_inf_droite = int(borne_inf_droite)\n",
    "    borne_sup_droite = int(borne_sup_droite)\n",
    "\n",
    "    range_g = set(range(borne_inf_gauche, borne_sup_gauche))\n",
    "    range_d = set(range(borne_inf_droite, borne_sup_droite))\n",
    "    \n",
    "    if range_g.intersection(range_d):\n",
    "        result += 1\n",
    "    \n",
    "\n"
   ]
  },
  {
   "cell_type": "code",
   "execution_count": 37,
   "id": "070c8e55-399c-443e-88d3-e24b0df10c6d",
   "metadata": {},
   "outputs": [
    {
     "data": {
      "text/plain": [
       "627"
      ]
     },
     "execution_count": 37,
     "metadata": {},
     "output_type": "execute_result"
    }
   ],
   "source": [
    "result"
   ]
  },
  {
   "cell_type": "code",
   "execution_count": 38,
   "id": "044a7a7e-b836-4628-b134-41f5423d4cf2",
   "metadata": {},
   "outputs": [
    {
     "data": {
      "text/plain": [
       "1000"
      ]
     },
     "execution_count": 38,
     "metadata": {},
     "output_type": "execute_result"
    }
   ],
   "source": [
    "len(data)"
   ]
  },
  {
   "cell_type": "code",
   "execution_count": null,
   "id": "492e4247-c93d-4d56-84f1-39582c8652cc",
   "metadata": {},
   "outputs": [],
   "source": []
  }
 ],
 "metadata": {
  "kernelspec": {
   "display_name": "Python 3 (ipykernel)",
   "language": "python",
   "name": "python3"
  },
  "language_info": {
   "codemirror_mode": {
    "name": "ipython",
    "version": 3
   },
   "file_extension": ".py",
   "mimetype": "text/x-python",
   "name": "python",
   "nbconvert_exporter": "python",
   "pygments_lexer": "ipython3",
   "version": "3.11.0b1"
  }
 },
 "nbformat": 4,
 "nbformat_minor": 5
}
