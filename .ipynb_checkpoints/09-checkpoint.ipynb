{
 "cells": [
  {
   "cell_type": "markdown",
   "id": "45470b58-3966-40c6-847e-e8ea3ea8c0c4",
   "metadata": {},
   "source": [
    "# Day 9"
   ]
  },
  {
   "cell_type": "code",
   "execution_count": 1,
   "id": "c3f2c34a-8c4d-4caf-be67-3ae6efd93f8e",
   "metadata": {},
   "outputs": [],
   "source": [
    "with open('input_09') as f:\n",
    "    data = f.read().splitlines()"
   ]
  },
  {
   "cell_type": "code",
   "execution_count": 2,
   "id": "0e6f03a5-9723-4f59-945e-8c9b7faa851d",
   "metadata": {},
   "outputs": [],
   "source": [
    "instructions = []\n",
    "for line in data:\n",
    "    direction, value = line.split()\n",
    "    instructions.append((direction, int(value)))"
   ]
  },
  {
   "cell_type": "code",
   "execution_count": 3,
   "id": "aaaf35ac-c932-424a-9b29-712fb38ddcc1",
   "metadata": {},
   "outputs": [
    {
     "data": {
      "text/plain": [
       "[('R', 1), ('U', 2), ('R', 1)]"
      ]
     },
     "execution_count": 3,
     "metadata": {},
     "output_type": "execute_result"
    }
   ],
   "source": [
    "instructions[:3]"
   ]
  },
  {
   "cell_type": "code",
   "execution_count": 4,
   "id": "adc21031-89a8-432c-9c53-1fe12c223d87",
   "metadata": {},
   "outputs": [],
   "source": [
    "sample = [\n",
    "    (\"R\", 4),\n",
    "(\"U\" ,4),\n",
    "(\"L\", 3),\n",
    "(\"D\", 1),\n",
    "(\"R\" ,4),\n",
    "(\"D\", 1),\n",
    "(\"L\" ,5),\n",
    "(\"R\" ,2),\n",
    "]"
   ]
  },
  {
   "cell_type": "code",
   "execution_count": 5,
   "id": "4efe8f8d-e1ef-4c49-8515-84782fe12c63",
   "metadata": {},
   "outputs": [],
   "source": [
    "from dataclasses import dataclass"
   ]
  },
  {
   "cell_type": "code",
   "execution_count": 6,
   "id": "15df76f3-1f8a-4bd3-a6b1-08a21880dc50",
   "metadata": {},
   "outputs": [],
   "source": [
    "@dataclass\n",
    "class Head():\n",
    "    x: int\n",
    "    y: int\n",
    "    \n",
    "    def move(self, direction):\n",
    "        if direction=='U':\n",
    "            self.y += 1\n",
    "        elif direction=='D':\n",
    "            self.y -= 1\n",
    "        elif direction=='R':\n",
    "            self.x += 1\n",
    "        elif direction=='L':\n",
    "            self.x -=1"
   ]
  },
  {
   "cell_type": "code",
   "execution_count": 7,
   "id": "1e1a03fa-eaeb-4889-a288-dc974d811271",
   "metadata": {},
   "outputs": [],
   "source": [
    "@dataclass\n",
    "class Tail():\n",
    "    x: int\n",
    "    y: int\n",
    "    positions: list\n",
    "    head: Head\n",
    "    \n",
    "    def follow(self):\n",
    "        # check if the head is two steps directly over\n",
    "        if self.head.y - self.y >=2 and self.head.x == self.x:\n",
    "            self.y += 1\n",
    "        # check if the head is two steps under\n",
    "        elif self.y - self.head.y >=2 and self.head.x == self.x:\n",
    "            self.y -= 1\n",
    "        # check if the head is 2 steps right\n",
    "        elif self.head.x - self.x >=2 and self.head.y == self.y:\n",
    "            self.x += 1\n",
    "        # check if the head is 2 steps left\n",
    "        elif self.x - self.head.x >=2 and self.head.y == self.y:\n",
    "            self.x -= 1\n",
    "        # check if head is two steps over and to the right of tail\n",
    "        elif self.head.y - self.y >=2 and self.head.x > self.x:\n",
    "            self.y += 1\n",
    "            self.x += 1\n",
    "        # check if head is two steps over and to the left of tail\n",
    "        elif self.head.y - self.y >=2 and self.head.x < self.x:\n",
    "            self.y += 1\n",
    "            self.x -= 1\n",
    "        # check if head is two steps under and to the right of tail\n",
    "        elif self.y - self.head.y >=2 and self.head.x > self.x:\n",
    "            self.y -= 1\n",
    "            self.x += 1\n",
    "        # check if head is two steps under and to the left of tail\n",
    "        elif self.y - self.head.y >=2 and self.head.x < self.x:\n",
    "            self.y -= 1\n",
    "            self.x -= 1\n",
    "         # check if the head is 2 steps left and one above\n",
    "        elif self.x - self.head.x >=2 and self.head.y > self.y:\n",
    "            self.x -= 1\n",
    "            self.y += 1\n",
    "         # check if the head is 2 steps left and one below\n",
    "        elif self.x - self.head.x >=2 and self.head.y < self.y:\n",
    "            self.x -= 1\n",
    "            self.y -= 1\n",
    "         # check if the head is 2 steps right and one above\n",
    "        elif self.head.x - self.x >=2 and self.head.y > self.y:\n",
    "            self.x += 1\n",
    "            self.y += 1\n",
    "         # check if the head is 2 steps right and one below\n",
    "        elif self.head.x - self.x >=2 and self.head.y < self.y:\n",
    "            self.x += 1\n",
    "            self.y -= 1\n",
    "            \n",
    "        # update the positions\n",
    "        self.positions.append((self.x, self.y))\n",
    "    def count_positions(self):\n",
    "        return len(set(self.positions))"
   ]
  },
  {
   "cell_type": "code",
   "execution_count": 8,
   "id": "f567bb03-397c-467c-8c65-ce3d6d876545",
   "metadata": {},
   "outputs": [],
   "source": [
    "def init_head_and_tail():\n",
    "    head = Head(0, 0)\n",
    "    tail = Tail(x=0,y=0, positions=[(0, 0),], head=head)\n",
    "    return head, tail"
   ]
  },
  {
   "cell_type": "code",
   "execution_count": 9,
   "id": "827cfbeb-6a0e-4713-82f5-e372f064ac50",
   "metadata": {},
   "outputs": [],
   "source": [
    "head, tail = init_head_and_tail()\n",
    "\n",
    "for line in sample: # testing with sample\n",
    "    direction, amount = line\n",
    "    for time in range(amount):\n",
    "        head.move(direction)\n",
    "        tail.follow()"
   ]
  },
  {
   "cell_type": "code",
   "execution_count": 10,
   "id": "8ebecdd6-d53e-441d-b339-882a05dd789a",
   "metadata": {},
   "outputs": [
    {
     "data": {
      "text/plain": [
       "13"
      ]
     },
     "execution_count": 10,
     "metadata": {},
     "output_type": "execute_result"
    }
   ],
   "source": [
    "tail.count_positions()"
   ]
  },
  {
   "cell_type": "markdown",
   "id": "55e2d0ad-c1c9-4b35-ac56-2fcc5395dbae",
   "metadata": {},
   "source": [
    "## end of part 1"
   ]
  },
  {
   "cell_type": "code",
   "execution_count": 11,
   "id": "69b07e61-ff1e-4126-aa02-7c7d0199a641",
   "metadata": {},
   "outputs": [
    {
     "data": {
      "text/plain": [
       "6642"
      ]
     },
     "execution_count": 11,
     "metadata": {},
     "output_type": "execute_result"
    }
   ],
   "source": [
    "head, tail = init_head_and_tail()\n",
    "\n",
    "for line in instructions: # with real data\n",
    "    direction, amount = line\n",
    "    for time in range(amount):\n",
    "        head.move(direction)\n",
    "        tail.follow()\n",
    "        \n",
    "tail.count_positions()"
   ]
  },
  {
   "cell_type": "markdown",
   "id": "7eaca55a-9d4a-4388-a1e3-42cd473213ea",
   "metadata": {},
   "source": [
    "## part 2"
   ]
  },
  {
   "cell_type": "code",
   "execution_count": 14,
   "id": "3ff708e0-a858-47dc-986d-6541502bcfa0",
   "metadata": {},
   "outputs": [],
   "source": [
    "def init_part_2():\n",
    "    head = Head(0, 0)\n",
    "    current_knot = head\n",
    "    rope = []\n",
    "    for knot in range(9):\n",
    "        current_knot = Tail(x=0,y=0, positions=[(0, 0),], head=current_knot)\n",
    "        rope.append(current_knot)\n",
    "\n",
    "    return head, rope"
   ]
  },
  {
   "cell_type": "code",
   "execution_count": 13,
   "id": "38784e2e-675e-4f53-b08e-c4f9de1e33a2",
   "metadata": {},
   "outputs": [
    {
     "data": {
      "text/plain": [
       "2765"
      ]
     },
     "execution_count": 13,
     "metadata": {},
     "output_type": "execute_result"
    }
   ],
   "source": [
    "head, rope = init_part_2()\n",
    "for line in instructions: # with real data\n",
    "    direction, amount = line\n",
    "    for time in range(amount):\n",
    "        head.move(direction)\n",
    "        for knot in rope:\n",
    "            knot.follow()\n",
    "        \n",
    "rope[-1].count_positions()"
   ]
  },
  {
   "cell_type": "code",
   "execution_count": null,
   "id": "8d8e735f-d90f-4b9b-8320-07ad52dc8bf2",
   "metadata": {},
   "outputs": [],
   "source": []
  }
 ],
 "metadata": {
  "kernelspec": {
   "display_name": "Python 3 (ipykernel)",
   "language": "python",
   "name": "python3"
  },
  "language_info": {
   "codemirror_mode": {
    "name": "ipython",
    "version": 3
   },
   "file_extension": ".py",
   "mimetype": "text/x-python",
   "name": "python",
   "nbconvert_exporter": "python",
   "pygments_lexer": "ipython3",
   "version": "3.11.0b1"
  }
 },
 "nbformat": 4,
 "nbformat_minor": 5
}
