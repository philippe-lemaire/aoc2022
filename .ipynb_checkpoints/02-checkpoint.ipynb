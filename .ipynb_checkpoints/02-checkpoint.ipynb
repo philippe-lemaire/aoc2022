{
 "cells": [
  {
   "cell_type": "markdown",
   "id": "fd526a69-89aa-4e00-b8e1-7467d47aac2c",
   "metadata": {},
   "source": [
    "# AOC 2022 Day 2"
   ]
  },
  {
   "cell_type": "code",
   "execution_count": 6,
   "id": "5867543a-8ea9-455b-9078-576dec805886",
   "metadata": {},
   "outputs": [],
   "source": [
    "input_file = '02_01_input'"
   ]
  },
  {
   "cell_type": "code",
   "execution_count": 20,
   "id": "6d4a6e16-9a48-4622-b03f-f286e351f828",
   "metadata": {},
   "outputs": [],
   "source": [
    "with open(input_file) as f:\n",
    "    data = f.readlines()\n",
    "    data = [l.strip().split(' ')   for l in data]"
   ]
  },
  {
   "cell_type": "code",
   "execution_count": 50,
   "id": "80ffade8-8199-463e-a103-1cea9d85568c",
   "metadata": {},
   "outputs": [],
   "source": [
    "line = data[0]"
   ]
  },
  {
   "cell_type": "code",
   "execution_count": 51,
   "id": "0b5533fb-83d0-4f32-9c24-ef65556056ee",
   "metadata": {},
   "outputs": [],
   "source": []
  },
  {
   "cell_type": "code",
   "execution_count": 52,
   "id": "85748cc4-eb68-4a95-990e-626f9871cc6b",
   "metadata": {},
   "outputs": [
    {
     "data": {
      "text/plain": [
       "['B', 'Z']"
      ]
     },
     "execution_count": 52,
     "metadata": {},
     "output_type": "execute_result"
    }
   ],
   "source": [
    "line"
   ]
  },
  {
   "cell_type": "code",
   "execution_count": 53,
   "id": "3eb1e604-3ae1-4949-b032-5f64a1bf3631",
   "metadata": {},
   "outputs": [],
   "source": [
    "plays = {\n",
    "    \"A\": \"rock\",\n",
    "    \"B\": \"paper\",\n",
    "    \"C\": \"cisor\",\n",
    "    \"X\": \"rock\",\n",
    "    \"Y\": \"paper\",\n",
    "    \"Z\": \"cisor\",\n",
    "}"
   ]
  },
  {
   "cell_type": "code",
   "execution_count": 54,
   "id": "a8e380da-bb09-4cd1-99c1-71b5c06921f4",
   "metadata": {},
   "outputs": [],
   "source": [
    "play_value = {\n",
    "    'rock': 1,\n",
    "    \"paper\": 2,\n",
    "    \"cisor\": 3,\n",
    "}"
   ]
  },
  {
   "cell_type": "code",
   "execution_count": 55,
   "id": "fbe9b7e4-270e-4766-8fe9-49f79eaa5c7d",
   "metadata": {},
   "outputs": [],
   "source": [
    "matchup = {\n",
    "    (\"rock\", \"paper\") : \"paper\",\n",
    "    (\"rock\", \"cisor\") : \"rock\",\n",
    "    (\"paper\", \"cisor\") : \"cisor\",\n",
    "    (\"paper\", \"rock\"): \"paper\",\n",
    "    (\"cisor\", \"rock\"): \"rock\",\n",
    "    (\"cisor\", \"paper\"): \"cisor\",\n",
    "}"
   ]
  },
  {
   "cell_type": "code",
   "execution_count": 64,
   "id": "d4e480f9-4b25-43e1-9a5e-d04264e68dfc",
   "metadata": {},
   "outputs": [],
   "source": [
    "my_score = 0\n",
    "oppenent_score = 0\n",
    "\n",
    "for line in data:\n",
    "    \n",
    "    play = tuple(plays[play] for play in line)\n",
    "\n",
    "    if play[0] == play[1]:\n",
    "        my_score += 3\n",
    "        oppenent_score += 3\n",
    "    else:\n",
    "        winner = matchup.get(play)\n",
    "\n",
    "\n",
    "        if play.index(winner) == 1:\n",
    "            # je gagne\n",
    "            my_score += 6\n",
    "        else:\n",
    "            # je perds\n",
    "            oppenent_score += 6\n",
    "        # tous marquent la valeur 1, 2 ou  3 du coup joué\n",
    "    my_score += play_value.get(play[1])\n",
    "    oppenent_score += play_value.get(play[0])\n",
    "    \n",
    "    "
   ]
  },
  {
   "cell_type": "code",
   "execution_count": 65,
   "id": "b52c0d33-b03d-4ea5-be05-e6c828c8a5a4",
   "metadata": {},
   "outputs": [
    {
     "data": {
      "text/plain": [
       "14163"
      ]
     },
     "execution_count": 65,
     "metadata": {},
     "output_type": "execute_result"
    }
   ],
   "source": [
    "my_score"
   ]
  },
  {
   "cell_type": "code",
   "execution_count": 66,
   "id": "19030138-1236-4f0f-bb61-774b41be83ad",
   "metadata": {},
   "outputs": [
    {
     "data": {
      "text/plain": [
       "11700"
      ]
     },
     "execution_count": 66,
     "metadata": {},
     "output_type": "execute_result"
    }
   ],
   "source": [
    "oppenent_score"
   ]
  },
  {
   "cell_type": "markdown",
   "id": "d108c895-4fcf-4f50-805d-261308e162a4",
   "metadata": {},
   "source": [
    "## part 2\n",
    "\n",
    ">\"Anyway, the second column says how the round needs to end: X means you need to lose, Y means you need to end the round in a draw, and Z means you need to win. Good luck!\"\n"
   ]
  },
  {
   "cell_type": "code",
   "execution_count": 67,
   "id": "5be31c43-1a3d-43d4-b5b7-f6fb07893175",
   "metadata": {},
   "outputs": [],
   "source": [
    "plays = {\n",
    "    \"A\": \"rock\",\n",
    "    \"B\": \"paper\",\n",
    "    \"C\": \"cisor\",\n",
    "    \"X\": \"lose\",\n",
    "    \"Y\": \"draw\",\n",
    "    \"Z\": \"win\",\n",
    "}"
   ]
  },
  {
   "cell_type": "code",
   "execution_count": 68,
   "id": "8f1d8ba6-e310-498e-bec7-b79ad30f6031",
   "metadata": {},
   "outputs": [],
   "source": [
    "my_play = {\n",
    "    (\"rock\", \"lose\") : \"cisor\",\n",
    "    (\"rock\", \"draw\") : \"rock\",\n",
    "    (\"rock\", \"win\") : \"paper\",\n",
    "   \n",
    "    (\"paper\", \"lose\") : \"rock\",\n",
    "    (\"paper\", \"draw\") : \"paper\",\n",
    "    (\"paper\", \"win\") : \"cisor\",\n",
    "   \n",
    "    (\"cisor\", \"lose\") : \"paper\",\n",
    "    (\"cisor\", \"draw\") : \"cisor\",\n",
    "    (\"cisor\", \"win\") : \"rock\",\n",
    "\n",
    "}"
   ]
  },
  {
   "cell_type": "code",
   "execution_count": null,
   "id": "aa4d968d-bc49-4710-868d-dc38aa507aa6",
   "metadata": {},
   "outputs": [],
   "source": [
    "my_score = 0\n",
    "oppenent_score = 0"
   ]
  },
  {
   "cell_type": "code",
   "execution_count": 71,
   "id": "dcbd6555-032b-4e45-a770-2c896d9276be",
   "metadata": {},
   "outputs": [
    {
     "data": {
      "text/plain": [
       "['B', 'Z']"
      ]
     },
     "execution_count": 71,
     "metadata": {},
     "output_type": "execute_result"
    }
   ],
   "source": [
    "line = data[0]\n",
    "line"
   ]
  },
  {
   "cell_type": "code",
   "execution_count": 72,
   "id": "ccf888b6-d0df-431e-b5bb-ab7a0488372a",
   "metadata": {},
   "outputs": [],
   "source": [
    "play = tuple(plays[play] for play in line)"
   ]
  },
  {
   "cell_type": "code",
   "execution_count": 77,
   "id": "fbab28f7-c3ec-4583-b49d-baa90cdc1d98",
   "metadata": {},
   "outputs": [
    {
     "data": {
      "text/plain": [
       "('paper', 'cisor')"
      ]
     },
     "execution_count": 77,
     "metadata": {},
     "output_type": "execute_result"
    }
   ],
   "source": [
    "play[0], my_play.get(play)"
   ]
  },
  {
   "cell_type": "code",
   "execution_count": 79,
   "id": "d66659e9-d051-4e9c-871f-9e0d5f56c0d1",
   "metadata": {},
   "outputs": [],
   "source": [
    "my_score = 0\n",
    "oppenent_score = 0"
   ]
  },
  {
   "cell_type": "code",
   "execution_count": 80,
   "id": "c8d6063d-71f5-47a0-92cf-fb0db1497e38",
   "metadata": {},
   "outputs": [],
   "source": [
    "for line in data:\n",
    "    play = tuple(plays[play] for play in line)\n",
    "    play = (play[0], my_play.get(play))\n",
    "    \n",
    "    if play[0] == play[1]:\n",
    "        my_score += 3\n",
    "        oppenent_score += 3\n",
    "    else:\n",
    "        winner = matchup.get(play)\n",
    "\n",
    "\n",
    "        if play.index(winner) == 1:\n",
    "            # je gagne\n",
    "            my_score += 6\n",
    "        else:\n",
    "            # je perds\n",
    "            oppenent_score += 6\n",
    "        # tous marquent la valeur 1, 2 ou  3 du coup joué\n",
    "    my_score += play_value.get(play[1])\n",
    "    oppenent_score += play_value.get(play[0])"
   ]
  },
  {
   "cell_type": "code",
   "execution_count": 81,
   "id": "8992fae7-6295-4968-8f3c-5af9b73623bc",
   "metadata": {},
   "outputs": [
    {
     "data": {
      "text/plain": [
       "12091"
      ]
     },
     "execution_count": 81,
     "metadata": {},
     "output_type": "execute_result"
    }
   ],
   "source": [
    "my_score"
   ]
  },
  {
   "cell_type": "code",
   "execution_count": 82,
   "id": "5c8667d7-c93e-43d8-b550-115ed435b3f0",
   "metadata": {},
   "outputs": [
    {
     "data": {
      "text/plain": [
       "13803"
      ]
     },
     "execution_count": 82,
     "metadata": {},
     "output_type": "execute_result"
    }
   ],
   "source": [
    "oppenent_score"
   ]
  },
  {
   "cell_type": "code",
   "execution_count": null,
   "id": "9fb17624-5dc9-4a4d-93a6-83db85beebb5",
   "metadata": {},
   "outputs": [],
   "source": []
  }
 ],
 "metadata": {
  "kernelspec": {
   "display_name": "Python 3 (ipykernel)",
   "language": "python",
   "name": "python3"
  },
  "language_info": {
   "codemirror_mode": {
    "name": "ipython",
    "version": 3
   },
   "file_extension": ".py",
   "mimetype": "text/x-python",
   "name": "python",
   "nbconvert_exporter": "python",
   "pygments_lexer": "ipython3",
   "version": "3.11.0b1"
  }
 },
 "nbformat": 4,
 "nbformat_minor": 5
}
