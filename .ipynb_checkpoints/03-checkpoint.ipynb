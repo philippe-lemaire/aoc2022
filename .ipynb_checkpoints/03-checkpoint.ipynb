{
 "cells": [
  {
   "cell_type": "markdown",
   "id": "a90850ad-da0b-4b70-b7d3-91bebb9dbbb2",
   "metadata": {},
   "source": [
    "# Day 3\n",
    "\n",
    "To help prioritize item rearrangement, every item type can be converted to a priority:\n",
    "\n",
    "Lowercase item types a through z have priorities 1 through 26.\n",
    "Uppercase item types A through Z have priorities 27 through 52.\n",
    "In the above example, the priority of the item type that appears in both compartments of each rucksack is 16 (p), 38 (L), 42 (P), 22 (v), 20 (t), and 19 (s); the sum of these is 157.\n",
    "\n",
    "Find the item type that appears in both compartments of each rucksack. What is the sum of the priorities of those item types?\n",
    "\n"
   ]
  },
  {
   "cell_type": "code",
   "execution_count": 11,
   "id": "38c926d3-33cb-403e-8de3-8e6d6a67ff4d",
   "metadata": {},
   "outputs": [],
   "source": [
    "import string"
   ]
  },
  {
   "cell_type": "code",
   "execution_count": 3,
   "id": "9941b966-6cb1-43c6-9923-6ebf6dd5650a",
   "metadata": {},
   "outputs": [],
   "source": [
    "with open('input_03') as file:\n",
    "    \n",
    "    data = [l.strip() for l in file.readlines()]"
   ]
  },
  {
   "cell_type": "code",
   "execution_count": 21,
   "id": "f42252d5-64b5-4921-a791-89004b6ea22a",
   "metadata": {},
   "outputs": [],
   "source": [
    "def get_letter_value(letter):\n",
    "    if letter.islower():\n",
    "        value = string.ascii_lowercase.index(letter) + 1\n",
    "    else:\n",
    "        value = string.ascii_uppercase.index(letter) + 26 + 1\n",
    "    return value"
   ]
  },
  {
   "cell_type": "code",
   "execution_count": 22,
   "id": "43ed1a18-5be3-4156-83b4-e3bfd9afc11f",
   "metadata": {},
   "outputs": [],
   "source": [
    "result = 0\n",
    "for line in data:\n",
    "\n",
    "    # split the line in 2\n",
    "    half_point = len(line)//2\n",
    "    first_half, last_half = line[:half_point], line[half_point:]\n",
    "    # find the common character\n",
    "    common_set = set(first_half).intersection(set(last_half))\n",
    "    # get its value\n",
    "    value = get_letter_value(common_set.pop())\n",
    "    result += value"
   ]
  },
  {
   "cell_type": "code",
   "execution_count": 23,
   "id": "c8940e88-c410-4ce2-86de-31df36dcf3ba",
   "metadata": {},
   "outputs": [
    {
     "data": {
      "text/plain": [
       "8202"
      ]
     },
     "execution_count": 23,
     "metadata": {},
     "output_type": "execute_result"
    }
   ],
   "source": [
    "result"
   ]
  },
  {
   "cell_type": "markdown",
   "id": "710a7adf-4f1e-44a4-83c9-a212094d17d3",
   "metadata": {},
   "source": [
    "## part 2"
   ]
  },
  {
   "cell_type": "code",
   "execution_count": null,
   "id": "5af19a1e-5557-4022-a4b3-a0a3b34c66a3",
   "metadata": {},
   "outputs": [],
   "source": [
    "result = 0"
   ]
  },
  {
   "cell_type": "code",
   "execution_count": 24,
   "id": "c74f4844-2e6f-43dd-bff1-1799e87a5847",
   "metadata": {},
   "outputs": [],
   "source": [
    "lines = data[0:3]"
   ]
  },
  {
   "cell_type": "code",
   "execution_count": 27,
   "id": "0394fa51-fd16-4476-9534-2eef4be5e045",
   "metadata": {},
   "outputs": [],
   "source": [
    "a, b, c = lines"
   ]
  },
  {
   "cell_type": "code",
   "execution_count": 26,
   "id": "5a2b765a-1a91-4d9f-8de1-154f7b3bfe67",
   "metadata": {},
   "outputs": [],
   "source": [
    "# find the one letter in common"
   ]
  },
  {
   "cell_type": "code",
   "execution_count": 30,
   "id": "df51d05e-0dda-49cd-9d68-f371e50ec006",
   "metadata": {},
   "outputs": [],
   "source": [
    "badge = set(a).intersection(set(b)).intersection(set(c)).pop()"
   ]
  },
  {
   "cell_type": "code",
   "execution_count": 31,
   "id": "9c0dddcb-dba7-46d1-b617-e41c34d933ea",
   "metadata": {},
   "outputs": [
    {
     "data": {
      "text/plain": [
       "48"
      ]
     },
     "execution_count": 31,
     "metadata": {},
     "output_type": "execute_result"
    }
   ],
   "source": [
    "get_letter_value(badge)"
   ]
  },
  {
   "cell_type": "code",
   "execution_count": null,
   "id": "c459b124-7b1f-408d-b1a9-9ac096291ba4",
   "metadata": {},
   "outputs": [],
   "source": []
  }
 ],
 "metadata": {
  "kernelspec": {
   "display_name": "Python 3 (ipykernel)",
   "language": "python",
   "name": "python3"
  },
  "language_info": {
   "codemirror_mode": {
    "name": "ipython",
    "version": 3
   },
   "file_extension": ".py",
   "mimetype": "text/x-python",
   "name": "python",
   "nbconvert_exporter": "python",
   "pygments_lexer": "ipython3",
   "version": "3.11.0b1"
  }
 },
 "nbformat": 4,
 "nbformat_minor": 5
}
