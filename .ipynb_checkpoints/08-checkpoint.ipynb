{
 "cells": [
  {
   "cell_type": "markdown",
   "id": "a6e3191c-55a8-404c-9a88-1b1160631d72",
   "metadata": {},
   "source": [
    "# Day 8"
   ]
  },
  {
   "cell_type": "code",
   "execution_count": 1,
   "id": "f908de17-473a-49fb-bd45-0a097b5185f9",
   "metadata": {},
   "outputs": [],
   "source": [
    "import numpy as np"
   ]
  },
  {
   "cell_type": "code",
   "execution_count": 2,
   "id": "cbaa4ff6-3aea-4a8f-88e1-4db55c237fbe",
   "metadata": {},
   "outputs": [],
   "source": [
    "with open('input_08') as file:\n",
    "    data = file.read().splitlines()"
   ]
  },
  {
   "cell_type": "code",
   "execution_count": 3,
   "id": "aca03da2-93e5-4b52-8bc5-368f1a515f36",
   "metadata": {},
   "outputs": [],
   "source": [
    "arr = []\n",
    "for line in data:\n",
    "    arr.append([int(digit) for digit in line])"
   ]
  },
  {
   "cell_type": "code",
   "execution_count": 4,
   "id": "d750adae-54e4-4cae-b156-c4c3dc566444",
   "metadata": {},
   "outputs": [],
   "source": [
    "array = np.array(arr)"
   ]
  },
  {
   "cell_type": "code",
   "execution_count": 5,
   "id": "8f85be54-05e0-4b08-8ce4-d0ef10f1773c",
   "metadata": {},
   "outputs": [
    {
     "data": {
      "text/plain": [
       "array([[1, 1, 2, ..., 2, 2, 2],\n",
       "       [0, 0, 2, ..., 1, 0, 2],\n",
       "       [0, 0, 2, ..., 1, 2, 1],\n",
       "       ...,\n",
       "       [2, 0, 1, ..., 2, 2, 2],\n",
       "       [0, 0, 1, ..., 1, 1, 0],\n",
       "       [0, 1, 2, ..., 2, 2, 1]])"
      ]
     },
     "execution_count": 5,
     "metadata": {},
     "output_type": "execute_result"
    }
   ],
   "source": [
    "array"
   ]
  },
  {
   "cell_type": "code",
   "execution_count": 6,
   "id": "e4eceae8-d54d-4ff4-914b-f7eb0c4ad5aa",
   "metadata": {},
   "outputs": [
    {
     "data": {
      "text/plain": [
       "(99, 99)"
      ]
     },
     "execution_count": 6,
     "metadata": {},
     "output_type": "execute_result"
    }
   ],
   "source": [
    "array.shape"
   ]
  },
  {
   "cell_type": "code",
   "execution_count": 7,
   "id": "45d5c4ec-fdb6-4056-921e-60028203edc1",
   "metadata": {},
   "outputs": [],
   "source": [
    "def is_visible(array, i, j):\n",
    "    height = array[i,j]\n",
    "    \n",
    "    # check left\n",
    "    left = array[i, 0:j]  \n",
    "    if (left < height).all():\n",
    "        return True\n",
    "    \n",
    "    # check right\n",
    "    right = array[i, j+1:]    \n",
    "    if (right < height).all():\n",
    "        return True\n",
    "    # check above\n",
    "    above = array[:i, j]   \n",
    "    if (above < height).all():\n",
    "        return True\n",
    "    \n",
    "    # check below\n",
    "    below = array[i+1:, j]\n",
    "    if (below < height).all():\n",
    "        return True\n",
    "        \n",
    "    return False"
   ]
  },
  {
   "cell_type": "code",
   "execution_count": 8,
   "id": "162a2e2b-a57d-4533-8b22-8276ce9934bc",
   "metadata": {},
   "outputs": [],
   "source": [
    "def count_visible(array):\n",
    "    counter = 0\n",
    "    for i in range(array.shape[0]):\n",
    "        for j in range(array.shape[1]):\n",
    "            if is_visible(array, i, j):\n",
    "                counter +=1\n",
    "    return counter"
   ]
  },
  {
   "cell_type": "code",
   "execution_count": 9,
   "id": "db6c3374-00c1-4272-9db4-f38162b1637a",
   "metadata": {},
   "outputs": [],
   "source": [
    "small_array = np.array([\n",
    "    [3,0,3,7,3,],\n",
    "    [2,5,5,1,2],\n",
    "    [6,5,3,3,2],\n",
    "    [3,3,5,4,9],\n",
    "    [3,5,3,9,0],\n",
    "])"
   ]
  },
  {
   "cell_type": "code",
   "execution_count": 10,
   "id": "f2b8c613-aa13-4c86-adf6-8779719db7e6",
   "metadata": {},
   "outputs": [
    {
     "data": {
      "text/plain": [
       "array([[3, 0, 3, 7, 3],\n",
       "       [2, 5, 5, 1, 2],\n",
       "       [6, 5, 3, 3, 2],\n",
       "       [3, 3, 5, 4, 9],\n",
       "       [3, 5, 3, 9, 0]])"
      ]
     },
     "execution_count": 10,
     "metadata": {},
     "output_type": "execute_result"
    }
   ],
   "source": [
    "small_array"
   ]
  },
  {
   "cell_type": "code",
   "execution_count": 11,
   "id": "11ef53a1-d369-43dd-a7f9-94ab32cdb45b",
   "metadata": {},
   "outputs": [
    {
     "data": {
      "text/plain": [
       "21"
      ]
     },
     "execution_count": 11,
     "metadata": {},
     "output_type": "execute_result"
    }
   ],
   "source": [
    "count_visible(small_array)"
   ]
  },
  {
   "cell_type": "code",
   "execution_count": 12,
   "id": "119778b6-63b9-4eb5-b61f-a5e9594e7a37",
   "metadata": {},
   "outputs": [
    {
     "data": {
      "text/plain": [
       "1827"
      ]
     },
     "execution_count": 12,
     "metadata": {},
     "output_type": "execute_result"
    }
   ],
   "source": [
    "count_visible(array)"
   ]
  },
  {
   "cell_type": "markdown",
   "id": "a36fa8c0-32f2-4343-8104-f52e15f895d2",
   "metadata": {},
   "source": [
    "## Part 2"
   ]
  },
  {
   "cell_type": "code",
   "execution_count": 13,
   "id": "627c2173-24eb-4af3-a243-c1a24ff8fbe0",
   "metadata": {},
   "outputs": [],
   "source": [
    "def compute_scenic_score(array, i, j):\n",
    "    height = array[i,j]\n",
    "    left = array[i, 0:j][::-1] # need to reverse it\n",
    "    right = array[i, j+1:]\n",
    "    above = array[:i, j][::-1] # reverse it\n",
    "    below = array[i+1:, j]\n",
    "    arrs = [left, right, above, below]\n",
    "    score = 1\n",
    "    for arr in arrs:\n",
    "        count = 0\n",
    "        for elem in arr:\n",
    "            count +=1\n",
    "            if elem >= height:\n",
    "                break\n",
    "        score *= count\n",
    "        \n",
    "    return score"
   ]
  },
  {
   "cell_type": "code",
   "execution_count": 14,
   "id": "3e9a35ff-326b-42ef-8340-63503a6e0d00",
   "metadata": {},
   "outputs": [
    {
     "data": {
      "text/plain": [
       "8"
      ]
     },
     "execution_count": 14,
     "metadata": {},
     "output_type": "execute_result"
    }
   ],
   "source": [
    "compute_scenic_score(small_array, 3, 2)"
   ]
  },
  {
   "cell_type": "code",
   "execution_count": 15,
   "id": "42b63816-acb1-4f56-9430-a6c7bf08ed29",
   "metadata": {},
   "outputs": [
    {
     "data": {
      "text/plain": [
       "335580"
      ]
     },
     "execution_count": 15,
     "metadata": {},
     "output_type": "execute_result"
    }
   ],
   "source": [
    "scores = []\n",
    "for i in range(array.shape[0]):\n",
    "    row = []\n",
    "    for j in range(array.shape[1]):\n",
    "        score = compute_scenic_score(array, i, j)\n",
    "        row.append(score)\n",
    "    scores.append(row)\n",
    "\n",
    "scores_array = np.array(scores)\n",
    "scores_array.max()\n",
    "        "
   ]
  },
  {
   "cell_type": "code",
   "execution_count": null,
   "id": "f7080e0a-cd83-4363-a885-7afe21d02309",
   "metadata": {},
   "outputs": [],
   "source": []
  }
 ],
 "metadata": {
  "kernelspec": {
   "display_name": "Python 3 (ipykernel)",
   "language": "python",
   "name": "python3"
  },
  "language_info": {
   "codemirror_mode": {
    "name": "ipython",
    "version": 3
   },
   "file_extension": ".py",
   "mimetype": "text/x-python",
   "name": "python",
   "nbconvert_exporter": "python",
   "pygments_lexer": "ipython3",
   "version": "3.11.0b1"
  }
 },
 "nbformat": 4,
 "nbformat_minor": 5
}
